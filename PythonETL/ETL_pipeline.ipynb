{
 "cells": [
  {
   "cell_type": "code",
   "execution_count": 32,
   "id": "763def46",
   "metadata": {},
   "outputs": [
    {
     "name": "stdout",
     "output_type": "stream",
     "text": [
      "Python 3.11.4\n"
     ]
    }
   ],
   "source": [
    "!python --version"
   ]
  },
  {
   "cell_type": "code",
   "execution_count": 34,
   "id": "af160845",
   "metadata": {},
   "outputs": [
    {
     "name": "stdout",
     "output_type": "stream",
     "text": [
      "Requirement already satisfied: requests in c:\\users\\user\\anaconda3\\lib\\site-packages (2.31.0)\n",
      "Requirement already satisfied: charset-normalizer<4,>=2 in c:\\users\\user\\anaconda3\\lib\\site-packages (from requests) (2.0.4)\n",
      "Requirement already satisfied: idna<4,>=2.5 in c:\\users\\user\\anaconda3\\lib\\site-packages (from requests) (3.4)\n",
      "Requirement already satisfied: urllib3<3,>=1.21.1 in c:\\users\\user\\anaconda3\\lib\\site-packages (from requests) (1.26.16)\n",
      "Requirement already satisfied: certifi>=2017.4.17 in c:\\users\\user\\anaconda3\\lib\\site-packages (from requests) (2023.7.22)\n"
     ]
    }
   ],
   "source": [
    "!pip install requests"
   ]
  },
  {
   "cell_type": "code",
   "execution_count": 35,
   "id": "ede7b007",
   "metadata": {},
   "outputs": [
    {
     "name": "stdout",
     "output_type": "stream",
     "text": [
      "Requirement already satisfied: bs4 in c:\\users\\user\\anaconda3\\lib\\site-packages (0.0.2)\n",
      "Requirement already satisfied: beautifulsoup4 in c:\\users\\user\\anaconda3\\lib\\site-packages (from bs4) (4.12.2)\n",
      "Requirement already satisfied: soupsieve>1.2 in c:\\users\\user\\anaconda3\\lib\\site-packages (from beautifulsoup4->bs4) (2.4)\n"
     ]
    }
   ],
   "source": [
    "!pip install bs4"
   ]
  },
  {
   "cell_type": "code",
   "execution_count": 36,
   "id": "a238e4e0",
   "metadata": {},
   "outputs": [
    {
     "name": "stdout",
     "output_type": "stream",
     "text": [
      "Requirement already satisfied: pandas in c:\\users\\user\\anaconda3\\lib\\site-packages (1.5.3)\n",
      "Requirement already satisfied: python-dateutil>=2.8.1 in c:\\users\\user\\anaconda3\\lib\\site-packages (from pandas) (2.8.2)\n",
      "Requirement already satisfied: pytz>=2020.1 in c:\\users\\user\\anaconda3\\lib\\site-packages (from pandas) (2022.7)\n",
      "Requirement already satisfied: numpy>=1.21.0 in c:\\users\\user\\anaconda3\\lib\\site-packages (from pandas) (1.24.3)\n",
      "Requirement already satisfied: six>=1.5 in c:\\users\\user\\anaconda3\\lib\\site-packages (from python-dateutil>=2.8.1->pandas) (1.16.0)\n"
     ]
    }
   ],
   "source": [
    "!pip install pandas"
   ]
  },
  {
   "cell_type": "code",
   "execution_count": 41,
   "id": "f80fa47f",
   "metadata": {},
   "outputs": [
    {
     "name": "stdout",
     "output_type": "stream",
     "text": [
      "Requirement already satisfied: numpy in c:\\users\\user\\anaconda3\\lib\\site-packages (1.24.3)\n"
     ]
    }
   ],
   "source": [
    "!pip install numpy"
   ]
  },
  {
   "cell_type": "code",
   "execution_count": 42,
   "id": "c8c3e21f",
   "metadata": {},
   "outputs": [
    {
     "name": "stdout",
     "output_type": "stream",
     "text": [
      "Collecting datetime\n",
      "  Obtaining dependency information for datetime from https://files.pythonhosted.org/packages/f3/78/8e382b8cb4346119e2e04270b6eb4a01c5ee70b47a8a0244ecdb157204f7/DateTime-5.5-py3-none-any.whl.metadata\n",
      "  Downloading DateTime-5.5-py3-none-any.whl.metadata (33 kB)\n",
      "Requirement already satisfied: zope.interface in c:\\users\\user\\anaconda3\\lib\\site-packages (from datetime) (5.4.0)\n",
      "Requirement already satisfied: pytz in c:\\users\\user\\anaconda3\\lib\\site-packages (from datetime) (2022.7)\n",
      "Requirement already satisfied: setuptools in c:\\users\\user\\anaconda3\\lib\\site-packages (from zope.interface->datetime) (68.0.0)\n",
      "Downloading DateTime-5.5-py3-none-any.whl (52 kB)\n",
      "   ---------------------------------------- 0.0/52.6 kB ? eta -:--:--\n",
      "   ---------------------------------------- 52.6/52.6 kB 1.4 MB/s eta 0:00:00\n",
      "Installing collected packages: datetime\n",
      "Successfully installed datetime-5.5\n"
     ]
    }
   ],
   "source": [
    "!pip install datetime"
   ]
  },
  {
   "cell_type": "code",
   "execution_count": 66,
   "id": "44ff3703",
   "metadata": {},
   "outputs": [],
   "source": [
    "import pandas as pd \n",
    "import requests\n",
    "from bs4 import BeautifulSoup\n",
    "import sqlite3\n",
    "from datetime import datetime "
   ]
  },
  {
   "cell_type": "code",
   "execution_count": 67,
   "id": "ebc2fc3a",
   "metadata": {},
   "outputs": [],
   "source": [
    "url = 'https://en.wikipedia.org/wiki/List_of_largest_banks'\n",
    "db_name = 'Banks.db'\n",
    "table_name = 'Largest_banks' \n",
    "table_attribs = [\"Name\", \"MC_USD_Billion\"]\n",
    "csv_path_exchange = 'https://github.com/berislav-vidakovic/Portfolio/blob/main/PythonETL/exch_rate.csv'\n",
    "csv_path_load = 'Largest_banks_data.csv'\n",
    "log_file = 'code_log.txt'"
   ]
  },
  {
   "cell_type": "code",
   "execution_count": 68,
   "id": "3b377a6a",
   "metadata": {},
   "outputs": [],
   "source": [
    "#LOGGING DATA ----------------------------------------------------------\n",
    "def log_progress(message): \n",
    "    ''' This function logs the mentioned message of a given stage of the\n",
    "    code execution to a log file. Function returns nothing'''\n",
    "    timestamp_format = '%Y-%h-%d-%H:%M:%S' # Year-Monthname-Day-Hour-Minute-Second \n",
    "    now = datetime.now() # get current timestamp \n",
    "    timestamp = now.strftime(timestamp_format) \n",
    "    with open(log_file,\"a\") as f: \n",
    "        f.write(timestamp + ' : ' + message + '\\n') "
   ]
  },
  {
   "cell_type": "code",
   "execution_count": 69,
   "id": "27816060",
   "metadata": {},
   "outputs": [],
   "source": [
    "# EXTRACT DATA -------------------------------------------------------\n",
    "def extract(url, table_attribs):\n",
    "    ''' This function aims to extract the required\n",
    "    information from the website and save it to a data frame. The\n",
    "    function returns the data frame for further processing. '''\n",
    "    \n",
    "    df = pd.DataFrame(columns=table_attribs)\n",
    "    # load the entire web page as an HTML document in python\n",
    "    html_page = requests.get(url).text\n",
    "    # parse the text  to enable extraction of relevant information.\n",
    "    data = BeautifulSoup(html_page, 'html.parser')\n",
    "    # extract the rows of the table needed \n",
    "    tables = data.find_all('tbody')\n",
    "    rows = tables[0].find_all('tr') #<class 'bs4.element.ResultSet'>\n",
    "    # iterate over the rows, col->dict->df\n",
    "    for row in rows:\n",
    "        col=row.find_all('td')\n",
    "        table_data_row=[item.text.strip() for item in col]\n",
    "        if len(table_data_row) > 2:\n",
    "            data_dict = { table_attribs[0]: table_data_row[1],\n",
    "                          table_attribs[1]: table_data_row[2], }\n",
    "            df1 = pd.DataFrame(data_dict, index=[0])\n",
    "            df = pd.concat([df,df1], ignore_index=True)             \n",
    "    \n",
    "    df['MC_USD_Billion'] = df['MC_USD_Billion'].astype('float')\n",
    "    log_progress('Data extraction complete. Initiating Transformation process')\n",
    "    return df"
   ]
  },
  {
   "cell_type": "code",
   "execution_count": 70,
   "id": "6fdda688",
   "metadata": {},
   "outputs": [],
   "source": [
    "# TRANSFORM function ---------------------------------------------------\n",
    "def transform(df, csv_path):\n",
    "    ''' This function accesses the CSV file for exchange rate\n",
    "    information, and adds three columns to the data frame, each\n",
    "    containing the transformed version of Market Cap column to\n",
    "    respective currencies'''\n",
    "\n",
    "    dfExchange = pd.read_csv(csv_path)\n",
    "    dfExchange.set_index('Currency', inplace=True)\n",
    "    \n",
    "    eur = dfExchange.at['EUR', 'Rate']\n",
    "    gbp = dfExchange.at['GBP', 'Rate']\n",
    "    inr = dfExchange.at['INR', 'Rate']\n",
    "\n",
    "    df['MC_EUR_Billion'] = round(df['MC_USD_Billion'] * eur, 2) \n",
    "    df['MC_GBP_Billion'] = round(df['MC_USD_Billion'] * gbp, 2)  \n",
    "    df['MC_INR_Billion'] = round(df['MC_USD_Billion'] * inr, 2)\n",
    "    \n",
    "    log_progress('Data transformation complete. Initiating Loading process')    "
   ]
  },
  {
   "cell_type": "code",
   "execution_count": 71,
   "id": "0caedb01",
   "metadata": {},
   "outputs": [],
   "source": [
    "# LOAD TO CSV\n",
    "def load_to_csv(df, csv_path):\n",
    "    ''' This function saves the final data frame as a CSV file in\n",
    "    the provided path. Function returns nothing.\n",
    "    '''\n",
    "    df.to_csv(csv_path, index=False)\n",
    "    log_progress('Data saved to CSV file')        "
   ]
  },
  {
   "cell_type": "code",
   "execution_count": 72,
   "id": "ed3f31d1",
   "metadata": {},
   "outputs": [],
   "source": [
    "# LOAD TO DB\n",
    "def load_to_db(df, sql_connection, table_name):\n",
    "    ''' This function saves the final data frame to a database\n",
    "    table with the provided name. Function returns nothing.'''\n",
    "    df.to_sql(table_name, sql_connection, if_exists = 'replace', index =False)\n",
    "    log_progress('Data loaded to Database as a table, Executing queries')"
   ]
  },
  {
   "cell_type": "code",
   "execution_count": 73,
   "id": "cd687b09",
   "metadata": {},
   "outputs": [],
   "source": [
    "def run_queries(sql_connection, query_statement):\n",
    "    ''' This function runs the passed query and adds query statement\n",
    "    and query results to the log file. Function returns nothing.'''\n",
    "    query_output = pd.read_sql(query_statement, sql_connection)\n",
    "    log_progress(f\"Running query... {query_statement}\")\n",
    "    log_progress(f\"...Query output:\\n{query_output}\")"
   ]
  },
  {
   "cell_type": "code",
   "execution_count": 74,
   "id": "0bdb4870",
   "metadata": {},
   "outputs": [],
   "source": [
    "url = 'https://en.wikipedia.org/wiki/List_of_largest_banks'\n",
    "db_name = 'Banks.db'\n",
    "table_name = 'Largest_banks' \n",
    "table_attribs = [\"Name\", \"MC_USD_Billion\"]\n",
    "csv_path_exchange = 'https://github.com/berislav-vidakovic/Portfolio/blob/main/PythonETL/exch_rate.csv'\n",
    "csv_path_load = 'Largest_banks_data.csv'\n",
    "log_file = 'code_log.txt'\n",
    "log_progress(\"Preliminaries complete. Initiating ETL process\")\n",
    "\n",
    "# EXTRACT DATA\n",
    "df=extract(url, table_attribs)\n",
    "\n",
    "# TRANSFORM DATA\n",
    "#Adding \"?raw=true\" at the end of the GitHub URL to get the raw file link\n",
    "transform(df, csv_path_exchange+\"?raw=true\")\n",
    "\n",
    "#LOAD DATA\n",
    "load_to_csv(df,csv_path_load)\n",
    "\n",
    "# create and connect  process to a  database Banks.db\n",
    "conn = sqlite3.connect(db_name)\n",
    "log_progress(\"SQL Connection initiated\")\n",
    "\n",
    "load_to_db(df, conn, table_name)\n",
    "\n",
    "run_queries(conn, \"SELECT Name, MC_USD_Billion FROM Largest_banks\")\n",
    "run_queries(conn, \"SELECT Name, MC_GBP_Billion FROM Largest_banks\")\n",
    "run_queries(conn, \"SELECT AVG(MC_EUR_Billion) AS Average_EUR FROM Largest_banks\")\n",
    "run_queries(conn, \"SELECT Name, MC_INR_Billion FROM Largest_banks LIMIT 5\")\n",
    "\n",
    "# close DB connection\n",
    "conn.close()\n",
    "log_progress(\"Server Connection closed\")"
   ]
  },
  {
   "cell_type": "code",
   "execution_count": 75,
   "id": "a1ed36b5",
   "metadata": {},
   "outputs": [
    {
     "data": {
      "text/html": [
       "<div>\n",
       "<style scoped>\n",
       "    .dataframe tbody tr th:only-of-type {\n",
       "        vertical-align: middle;\n",
       "    }\n",
       "\n",
       "    .dataframe tbody tr th {\n",
       "        vertical-align: top;\n",
       "    }\n",
       "\n",
       "    .dataframe thead th {\n",
       "        text-align: right;\n",
       "    }\n",
       "</style>\n",
       "<table border=\"1\" class=\"dataframe\">\n",
       "  <thead>\n",
       "    <tr style=\"text-align: right;\">\n",
       "      <th></th>\n",
       "      <th>Name</th>\n",
       "      <th>MC_USD_Billion</th>\n",
       "      <th>MC_EUR_Billion</th>\n",
       "      <th>MC_GBP_Billion</th>\n",
       "      <th>MC_INR_Billion</th>\n",
       "    </tr>\n",
       "  </thead>\n",
       "  <tbody>\n",
       "    <tr>\n",
       "      <th>0</th>\n",
       "      <td>JPMorgan Chase</td>\n",
       "      <td>491.76</td>\n",
       "      <td>457.34</td>\n",
       "      <td>393.41</td>\n",
       "      <td>40791.49</td>\n",
       "    </tr>\n",
       "    <tr>\n",
       "      <th>1</th>\n",
       "      <td>Bank of America</td>\n",
       "      <td>266.45</td>\n",
       "      <td>247.80</td>\n",
       "      <td>213.16</td>\n",
       "      <td>22102.03</td>\n",
       "    </tr>\n",
       "    <tr>\n",
       "      <th>2</th>\n",
       "      <td>Industrial and Commercial Bank of China</td>\n",
       "      <td>219.45</td>\n",
       "      <td>204.09</td>\n",
       "      <td>175.56</td>\n",
       "      <td>18203.38</td>\n",
       "    </tr>\n",
       "    <tr>\n",
       "      <th>3</th>\n",
       "      <td>Wells Fargo</td>\n",
       "      <td>178.74</td>\n",
       "      <td>166.23</td>\n",
       "      <td>142.99</td>\n",
       "      <td>14826.48</td>\n",
       "    </tr>\n",
       "    <tr>\n",
       "      <th>4</th>\n",
       "      <td>Agricultural Bank of China</td>\n",
       "      <td>175.69</td>\n",
       "      <td>163.39</td>\n",
       "      <td>140.55</td>\n",
       "      <td>14573.49</td>\n",
       "    </tr>\n",
       "    <tr>\n",
       "      <th>5</th>\n",
       "      <td>HDFC Bank</td>\n",
       "      <td>169.84</td>\n",
       "      <td>157.95</td>\n",
       "      <td>135.87</td>\n",
       "      <td>14088.23</td>\n",
       "    </tr>\n",
       "    <tr>\n",
       "      <th>6</th>\n",
       "      <td>HSBC Holdings PLC</td>\n",
       "      <td>156.13</td>\n",
       "      <td>145.20</td>\n",
       "      <td>124.90</td>\n",
       "      <td>12950.98</td>\n",
       "    </tr>\n",
       "    <tr>\n",
       "      <th>7</th>\n",
       "      <td>Morgan Stanley</td>\n",
       "      <td>153.05</td>\n",
       "      <td>142.34</td>\n",
       "      <td>122.44</td>\n",
       "      <td>12695.50</td>\n",
       "    </tr>\n",
       "    <tr>\n",
       "      <th>8</th>\n",
       "      <td>China Construction Bank</td>\n",
       "      <td>151.97</td>\n",
       "      <td>141.33</td>\n",
       "      <td>121.58</td>\n",
       "      <td>12605.91</td>\n",
       "    </tr>\n",
       "    <tr>\n",
       "      <th>9</th>\n",
       "      <td>Bank of China</td>\n",
       "      <td>150.39</td>\n",
       "      <td>139.86</td>\n",
       "      <td>120.31</td>\n",
       "      <td>12474.85</td>\n",
       "    </tr>\n",
       "  </tbody>\n",
       "</table>\n",
       "</div>"
      ],
      "text/plain": [
       "                                      Name  MC_USD_Billion  MC_EUR_Billion  \\\n",
       "0                           JPMorgan Chase          491.76          457.34   \n",
       "1                          Bank of America          266.45          247.80   \n",
       "2  Industrial and Commercial Bank of China          219.45          204.09   \n",
       "3                              Wells Fargo          178.74          166.23   \n",
       "4               Agricultural Bank of China          175.69          163.39   \n",
       "5                                HDFC Bank          169.84          157.95   \n",
       "6                        HSBC Holdings PLC          156.13          145.20   \n",
       "7                           Morgan Stanley          153.05          142.34   \n",
       "8                  China Construction Bank          151.97          141.33   \n",
       "9                            Bank of China          150.39          139.86   \n",
       "\n",
       "   MC_GBP_Billion  MC_INR_Billion  \n",
       "0          393.41        40791.49  \n",
       "1          213.16        22102.03  \n",
       "2          175.56        18203.38  \n",
       "3          142.99        14826.48  \n",
       "4          140.55        14573.49  \n",
       "5          135.87        14088.23  \n",
       "6          124.90        12950.98  \n",
       "7          122.44        12695.50  \n",
       "8          121.58        12605.91  \n",
       "9          120.31        12474.85  "
      ]
     },
     "execution_count": 75,
     "metadata": {},
     "output_type": "execute_result"
    }
   ],
   "source": [
    "df"
   ]
  },
  {
   "cell_type": "code",
   "execution_count": 76,
   "id": "f7c2eafd",
   "metadata": {},
   "outputs": [
    {
     "data": {
      "text/html": [
       "<div>\n",
       "<style scoped>\n",
       "    .dataframe tbody tr th:only-of-type {\n",
       "        vertical-align: middle;\n",
       "    }\n",
       "\n",
       "    .dataframe tbody tr th {\n",
       "        vertical-align: top;\n",
       "    }\n",
       "\n",
       "    .dataframe thead th {\n",
       "        text-align: right;\n",
       "    }\n",
       "</style>\n",
       "<table border=\"1\" class=\"dataframe\">\n",
       "  <thead>\n",
       "    <tr style=\"text-align: right;\">\n",
       "      <th></th>\n",
       "      <th>Name</th>\n",
       "      <th>MC_GBP_Billion</th>\n",
       "    </tr>\n",
       "  </thead>\n",
       "  <tbody>\n",
       "    <tr>\n",
       "      <th>0</th>\n",
       "      <td>JPMorgan Chase</td>\n",
       "      <td>393.41</td>\n",
       "    </tr>\n",
       "    <tr>\n",
       "      <th>1</th>\n",
       "      <td>Bank of America</td>\n",
       "      <td>213.16</td>\n",
       "    </tr>\n",
       "    <tr>\n",
       "      <th>2</th>\n",
       "      <td>Industrial and Commercial Bank of China</td>\n",
       "      <td>175.56</td>\n",
       "    </tr>\n",
       "    <tr>\n",
       "      <th>3</th>\n",
       "      <td>Wells Fargo</td>\n",
       "      <td>142.99</td>\n",
       "    </tr>\n",
       "    <tr>\n",
       "      <th>4</th>\n",
       "      <td>Agricultural Bank of China</td>\n",
       "      <td>140.55</td>\n",
       "    </tr>\n",
       "    <tr>\n",
       "      <th>5</th>\n",
       "      <td>HDFC Bank</td>\n",
       "      <td>135.87</td>\n",
       "    </tr>\n",
       "    <tr>\n",
       "      <th>6</th>\n",
       "      <td>HSBC Holdings PLC</td>\n",
       "      <td>124.90</td>\n",
       "    </tr>\n",
       "    <tr>\n",
       "      <th>7</th>\n",
       "      <td>Morgan Stanley</td>\n",
       "      <td>122.44</td>\n",
       "    </tr>\n",
       "    <tr>\n",
       "      <th>8</th>\n",
       "      <td>China Construction Bank</td>\n",
       "      <td>121.58</td>\n",
       "    </tr>\n",
       "    <tr>\n",
       "      <th>9</th>\n",
       "      <td>Bank of China</td>\n",
       "      <td>120.31</td>\n",
       "    </tr>\n",
       "  </tbody>\n",
       "</table>\n",
       "</div>"
      ],
      "text/plain": [
       "                                      Name  MC_GBP_Billion\n",
       "0                           JPMorgan Chase          393.41\n",
       "1                          Bank of America          213.16\n",
       "2  Industrial and Commercial Bank of China          175.56\n",
       "3                              Wells Fargo          142.99\n",
       "4               Agricultural Bank of China          140.55\n",
       "5                                HDFC Bank          135.87\n",
       "6                        HSBC Holdings PLC          124.90\n",
       "7                           Morgan Stanley          122.44\n",
       "8                  China Construction Bank          121.58\n",
       "9                            Bank of China          120.31"
      ]
     },
     "execution_count": 76,
     "metadata": {},
     "output_type": "execute_result"
    }
   ],
   "source": [
    "df[['Name', 'MC_GBP_Billion']]"
   ]
  },
  {
   "cell_type": "code",
   "execution_count": 77,
   "id": "492c123d",
   "metadata": {},
   "outputs": [
    {
     "data": {
      "text/plain": [
       "196.55299999999997"
      ]
     },
     "execution_count": 77,
     "metadata": {},
     "output_type": "execute_result"
    }
   ],
   "source": [
    "df['MC_EUR_Billion'].mean()"
   ]
  },
  {
   "cell_type": "code",
   "execution_count": 78,
   "id": "fc2d2e10",
   "metadata": {},
   "outputs": [
    {
     "data": {
      "text/html": [
       "<div>\n",
       "<style scoped>\n",
       "    .dataframe tbody tr th:only-of-type {\n",
       "        vertical-align: middle;\n",
       "    }\n",
       "\n",
       "    .dataframe tbody tr th {\n",
       "        vertical-align: top;\n",
       "    }\n",
       "\n",
       "    .dataframe thead th {\n",
       "        text-align: right;\n",
       "    }\n",
       "</style>\n",
       "<table border=\"1\" class=\"dataframe\">\n",
       "  <thead>\n",
       "    <tr style=\"text-align: right;\">\n",
       "      <th></th>\n",
       "      <th>Name</th>\n",
       "      <th>MC_INR_Billion</th>\n",
       "    </tr>\n",
       "  </thead>\n",
       "  <tbody>\n",
       "    <tr>\n",
       "      <th>0</th>\n",
       "      <td>JPMorgan Chase</td>\n",
       "      <td>40791.49</td>\n",
       "    </tr>\n",
       "    <tr>\n",
       "      <th>1</th>\n",
       "      <td>Bank of America</td>\n",
       "      <td>22102.03</td>\n",
       "    </tr>\n",
       "    <tr>\n",
       "      <th>2</th>\n",
       "      <td>Industrial and Commercial Bank of China</td>\n",
       "      <td>18203.38</td>\n",
       "    </tr>\n",
       "    <tr>\n",
       "      <th>3</th>\n",
       "      <td>Wells Fargo</td>\n",
       "      <td>14826.48</td>\n",
       "    </tr>\n",
       "    <tr>\n",
       "      <th>4</th>\n",
       "      <td>Agricultural Bank of China</td>\n",
       "      <td>14573.49</td>\n",
       "    </tr>\n",
       "  </tbody>\n",
       "</table>\n",
       "</div>"
      ],
      "text/plain": [
       "                                      Name  MC_INR_Billion\n",
       "0                           JPMorgan Chase        40791.49\n",
       "1                          Bank of America        22102.03\n",
       "2  Industrial and Commercial Bank of China        18203.38\n",
       "3                              Wells Fargo        14826.48\n",
       "4               Agricultural Bank of China        14573.49"
      ]
     },
     "execution_count": 78,
     "metadata": {},
     "output_type": "execute_result"
    }
   ],
   "source": [
    "df[['Name', 'MC_INR_Billion']].head(5)"
   ]
  },
  {
   "cell_type": "code",
   "execution_count": null,
   "id": "54e9e410",
   "metadata": {},
   "outputs": [],
   "source": []
  }
 ],
 "metadata": {
  "kernelspec": {
   "display_name": "Python 3 (ipykernel)",
   "language": "python",
   "name": "python3"
  },
  "language_info": {
   "codemirror_mode": {
    "name": "ipython",
    "version": 3
   },
   "file_extension": ".py",
   "mimetype": "text/x-python",
   "name": "python",
   "nbconvert_exporter": "python",
   "pygments_lexer": "ipython3",
   "version": "3.11.4"
  }
 },
 "nbformat": 4,
 "nbformat_minor": 5
}
